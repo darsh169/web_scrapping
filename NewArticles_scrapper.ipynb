{
 "cells": [
  {
   "cell_type": "code",
   "execution_count": 1,
   "metadata": {},
   "outputs": [],
   "source": [
    "import csv\n",
    "from bs4 import BeautifulSoup\n",
    "import numpy as np\n",
    "import pandas as pd\n",
    "import requests\n",
    "import sys\n",
    "import re\n",
    "import json"
   ]
  },
  {
   "cell_type": "code",
   "execution_count": 5,
   "metadata": {},
   "outputs": [],
   "source": [
    "news_articles_root = 'https://www.livehindustan.com'\n",
    "#because access was denied we use header to access it\n",
    "agent = {\"User-Agent\":'Mozilla/5.0 (Windows NT 6.3; WOW64) AppleWebKit/537.36 (KHTML, like Gecko) Chrome/59.0.3071.115 Safari/537.36'}"
   ]
  },
  {
   "cell_type": "markdown",
   "metadata": {},
   "source": [
    "# Settings"
   ]
  },
  {
   "cell_type": "code",
   "execution_count": 6,
   "metadata": {},
   "outputs": [],
   "source": [
    "cities = ['varanasi','azamgarh','mau','ghazipur','gorakhpur','prayagraj','pratapgarh-kunda','bhadohi'\n",
    "         'deoria','jaunpur','mirzapur','robertsganj-kotwali','kausambi','raebareli','chandauli','balia','amethi',\n",
    "          'maharajganj','balrampur','gonda']"
   ]
  },
  {
   "cell_type": "code",
   "execution_count": 7,
   "metadata": {},
   "outputs": [],
   "source": [
    "pages = 3 #Actually a list would be good for each city"
   ]
  },
  {
   "cell_type": "markdown",
   "metadata": {},
   "source": [
    "# Scraping"
   ]
  },
  {
   "cell_type": "code",
   "execution_count": null,
   "metadata": {},
   "outputs": [],
   "source": [
    "for city in cities:\n",
    "    \n",
    "    times = []\n",
    "    titles = []\n",
    "    contents = []\n",
    "    \n",
    "    for page in range(0,pages+1):\n",
    "        \n",
    "        markup = requests.get(news_articles_root + '/uttar-pradesh/'+city+'/news-'+str(page),headers = agent).text\n",
    "        soup = BeautifulSoup(markup, \"lxml\")\n",
    "        links = soup.find_all('h4',{'class':'hindustan-link'})\n",
    "        dates = soup.find_all('div',{'class':'list-time-tags tags-list'})\n",
    "\n",
    "        for i in range(0,len(links)):\n",
    "            news_link = links[i].find('a',href = True)['href'] \n",
    "            news_title = links[i].find('a',href = True)['title'].replace('\\xa0',' ')\n",
    "            news_date = dates[i].find('span').get_text()\n",
    "            news_markup = requests.get(news_articles_root + news_link,headers = agent).text\n",
    "            news_soup = BeautifulSoup(news_markup, \"lxml\")\n",
    "            news_div_content = news_soup.find('div',{'class':'story-page-content'})\n",
    "            news_content = news_div_content.get_text().replace('\\xa0',' ')\n",
    "\n",
    "            times.append(news_date)\n",
    "            titles.append(news_title)\n",
    "            contents.append(news_content)\n",
    "    \n",
    "    news = {'Time':times,'Title':titles,'Content':contents}\n",
    "    df = pd.DataFrame(news,columns = ['Time','Title','Content'])\n",
    "    df.to_csv(city +'.csv')"
   ]
  }
 ],
 "metadata": {
  "kernelspec": {
   "display_name": "Python 3",
   "language": "python",
   "name": "python3"
  },
  "language_info": {
   "codemirror_mode": {
    "name": "ipython",
    "version": 3
   },
   "file_extension": ".py",
   "mimetype": "text/x-python",
   "name": "python",
   "nbconvert_exporter": "python",
   "pygments_lexer": "ipython3",
   "version": "3.6.10"
  }
 },
 "nbformat": 4,
 "nbformat_minor": 2
}
